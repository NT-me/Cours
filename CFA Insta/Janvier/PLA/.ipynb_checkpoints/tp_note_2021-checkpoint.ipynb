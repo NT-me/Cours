{
 "cells": [
  {
   "cell_type": "markdown",
   "metadata": {},
   "source": [
    "# TP Noté\n",
    "\n",
    "Nom/prénom du monôme ou binôme :"
   ]
  },
  {
   "cell_type": "markdown",
   "metadata": {},
   "source": [
    "Pour ce TP, vous devez rendre votre jupyter notebook, en précisant vos noms dans le nom du fichier, à envoyer à grappe@lipn.fr \n",
    "\n",
    "**Enregistrez bien votre fichier avant de l'envoyer.**\n",
    "\n",
    "**Commentez bien votre cote :** Décrivez précisément vos variables/contraintes/fonction objectif en commentaire."
   ]
  },
  {
   "cell_type": "code",
   "execution_count": null,
   "metadata": {},
   "outputs": [],
   "source": [
    "# Librairies à importer pour utiliser JuMP avec le solver GLPK\n",
    "using JuMP\n",
    "using GLPK\n",
    "\n",
    "# Définition de constantes pour le statut de résolution du problème\n",
    "const OPTIMAL = JuMP.MathOptInterface.OPTIMAL\n",
    "const INFEASIBLE = JuMP.MathOptInterface.INFEASIBLE\n",
    "const UNBOUNDED = JuMP.MathOptInterface.DUAL_INFEASIBLE;"
   ]
  },
  {
   "cell_type": "markdown",
   "metadata": {},
   "source": [
    "## Première partie"
   ]
  },
  {
   "cell_type": "markdown",
   "metadata": {},
   "source": [
    "La firme RoLiX fabrique trois types de produits à base de plastique : bouteilles, sachets, et gants. Chaque produit nécessite une machine de type différent. La firme dispose de ces machines jusqu'à fin 2021.\n",
    "\n",
    "Le tableau suivant donne pour chaque produit son coût de production unitaire, son prix de vente, ainsi que la quantité de matière première et de travail que nécessite la production d'une unité de chacun de ces trois biens.\n",
    "\n",
    "Produit | bouteilles | sachets | gants\n",
    "-----|----|----|----\n",
    "Coût de production unitaire (euros) | 6 | 4 | 8\n",
    "Prix de vente unitaire (euros) | 12 | 8 | 15\n",
    "Matières Premières (plastique en kg) | 4 | 3 | 4\n",
    "Heures de travail | 3 | 2 | 6\n",
    "\n",
    "Chaque semaine, le nombre d'heures de travail disponibles est de 150h et la quantité de matières premières (le plastique) de 160kg.\n",
    "\n",
    "\n",
    "L'objectif est de déterminer le plan de production conduisant au revenu hebdomadaire maximal. "
   ]
  },
  {
   "cell_type": "markdown",
   "metadata": {},
   "source": [
    "### Question 1\n",
    "\n",
    "Donner la formulation PLNE pour résoudre le problème, en : \n",
    "\n",
    "* Proposant un choix de variables pour représenter les décisions à prendre dans ce problème. Pour chaque groupe de variables, indiquer ce qu'elles signifient, ainsi que le type, bornes inférieures et supérieures, ensembles d'appartenance des indices.\n",
    "\n",
    "* Expliquant à la fois la fonction objective et chacune des (familles de) contraintes.\n",
    "\n",
    "Utiliser cette formulation pour déterminer le plan de production donnant un revenu hebdomadaire maximal (Veiller à avoir un affichage de la solution compréhensible par le PDG de RoLiX qui n'y connait rien en PLNE)."
   ]
  },
  {
   "cell_type": "code",
   "execution_count": null,
   "metadata": {},
   "outputs": [],
   "source": [
    "###############################\n",
    "#   Saisir votre code ici.    #\n",
    "###############################"
   ]
  },
  {
   "cell_type": "markdown",
   "metadata": {},
   "source": [
    "### Question 2\n",
    "\n",
    "#### Question 2.1\n",
    "Implémenter une formulation générique, prenant comme paramètres :\n",
    "* $n$ : le nombre de types d'objets à fabriquer\n",
    "* $C$ : un tableau contenant le coût de production unitaire de chaque objet\n",
    "* $V$ : un tableau contenant le prix de vente unitaire de chaque objet \n",
    "* $P$ : un tableau contenant la quantité de matière première nécessaire à la fabrication de chaque objet\n",
    "* $H$ : un tableau contenant le nombre d'heures de travail nécessaires à la fabrication de chaque objet\n",
    "* $Q$ : la quantité de plastique disponible par semaine\n",
    "* $T$ : le nombre d'heures de travail disponible par semaine\n",
    "\n",
    "Dans chaque tableau (de taille $n$), on supposera que l'entrée d'indice $i$ est la donnée correspondant à l'objet de type $i$.\n",
    "\n",
    "Donner un affichage clair (en Julia) de la solution : indiquer pour chaque objet quel nombre en est fabriqué."
   ]
  },
  {
   "cell_type": "code",
   "execution_count": null,
   "metadata": {},
   "outputs": [],
   "source": [
    "###############################\n",
    "#   Saisir votre code ici.    #\n",
    "###############################"
   ]
  },
  {
   "cell_type": "markdown",
   "metadata": {},
   "source": [
    "#### Question 2.2\n",
    "Retrouver les résultats de la question 1 en utilisant votre formulation."
   ]
  },
  {
   "cell_type": "code",
   "execution_count": null,
   "metadata": {},
   "outputs": [],
   "source": [
    "###############################\n",
    "#   Saisir votre code ici.    #\n",
    "###############################\n",
    "n = 3\n",
    "C = [6;4;8]\n",
    "V = [12;8;15]\n",
    "P = [4;3;4]\n",
    "H = "
   ]
  },
  {
   "cell_type": "markdown",
   "metadata": {},
   "source": [
    "#### Question 2.3\n",
    "\n",
    "Résoudre l'instance correspondant aux données ci-dessous."
   ]
  },
  {
   "cell_type": "code",
   "execution_count": null,
   "metadata": {},
   "outputs": [],
   "source": [
    "#Données pour 2023 :\n",
    "n = 5\n",
    "C = [6;7;19;5;4]\n",
    "V = [11;16;37;10;10]\n",
    "P = [4;4;9;4;3]\n",
    "H = [3;6;11;3;4]\n",
    "Q = 200\n",
    "T = 140"
   ]
  },
  {
   "cell_type": "code",
   "execution_count": null,
   "metadata": {},
   "outputs": [],
   "source": [
    "###############################\n",
    "#   Saisir votre code ici.    #\n",
    "###############################"
   ]
  },
  {
   "cell_type": "markdown",
   "metadata": {},
   "source": [
    "## Deuxième partie"
   ]
  },
  {
   "cell_type": "markdown",
   "metadata": {},
   "source": [
    "En 2022, la firme ne disposera plus de ces machines et devra les louer. Ces machines peuvent être louées à la semaine aux prix suivants (M1 produit les bouteilles, M2 les sachets, et M3 les gants).\n",
    "\n",
    "Machine | M1 | M2 |M3\n",
    "-----|----|----|----\n",
    "Prix de location (semaine) | 200 | 150 | 100\n",
    "\n",
    "L'objectif est d'intégrer la location des machines au plan de production précédent et de déterminer le plan de production conduisant au revenu hebdomadaire maximal. \n",
    "(Pour produire chacun d'un des biens, il faut bien sûr avoir loué la machine correspondante !)"
   ]
  },
  {
   "cell_type": "markdown",
   "metadata": {},
   "source": [
    "### Question 1\n",
    "#### Question 1.1\n",
    "\n",
    "Formuler ce problème comme un PLNE et le résoudre."
   ]
  },
  {
   "cell_type": "code",
   "execution_count": null,
   "metadata": {},
   "outputs": [],
   "source": [
    "############################## \n",
    "#   Saisir votre code ici.   #\n",
    "##############################"
   ]
  },
  {
   "cell_type": "markdown",
   "metadata": {},
   "source": [
    "#### Question 1.2\n",
    "\n",
    "Formuler un PLNE générique modélisant le problème de la question précédente, prenant comme paramètres :\n",
    "* $n$ : le nombre de types d'objets à fabriquer\n",
    "* $L$ : les noms des différents types d'objets\n",
    "* $C$ : un tableau contenant le coût de production unitaire de chaque objet\n",
    "* $V$ : un tableau contenant le prix de vente unitaire de chaque objet \n",
    "* $P$ : un tableau contenant la quantité de matière première nécessaire à la fabrication de chaque objet\n",
    "* $H$ : un tableau contenant le nombre d'heures de travail nécessaires à la fabrication de chaque objet\n",
    "* $M$ : un tableau où $M_i$ est le prix de location d'une semaine de la machine produisant l'objet de type $i$\n",
    "* $Q$ : la quantité de plastique disponible par semaine\n",
    "* $T$ : le nombre d'heures de travail disponible par semaine\n",
    "\n",
    "Dans chaque tableau (de taille $n$), on supposera que l'entrée d'indice $i$ est la donnée correspondant à l'objet de type $i$.\n",
    "\n",
    "Donner un affichage clair (en Julia) de la solution : indiquer pour chaque objet quel nombre en est fabriqué,  ainsi que les temps totaux de travail de chacune des machines utilisées."
   ]
  },
  {
   "cell_type": "code",
   "execution_count": null,
   "metadata": {},
   "outputs": [],
   "source": [
    "###############################\n",
    "#   Saisir votre code ici.    #\n",
    "###############################"
   ]
  },
  {
   "cell_type": "markdown",
   "metadata": {},
   "source": [
    "#### Question 1.3\n",
    "\n",
    "Retrouver les résultats de la question 1.1 de la deuxième partie en utilisant votre formulation."
   ]
  },
  {
   "cell_type": "code",
   "execution_count": null,
   "metadata": {},
   "outputs": [],
   "source": [
    "###############################\n",
    "#   Saisir votre code ici.    #\n",
    "###############################"
   ]
  },
  {
   "cell_type": "markdown",
   "metadata": {},
   "source": [
    "### Question 2\n",
    "#### Question 2.1\n",
    "\n",
    "On suppose de plus que si on fabrique des bouteilles, on doit on fabriquer au moins 10 unités.\n",
    "\n",
    "* Modifier la formulation de la question 1.1 de la deuxième partie pour le prendre en compte. \n",
    "* Résoudre ce nouveau problème."
   ]
  },
  {
   "cell_type": "code",
   "execution_count": null,
   "metadata": {},
   "outputs": [],
   "source": [
    "############################## \n",
    "#   Saisir votre code ici.   #\n",
    "##############################\n"
   ]
  },
  {
   "cell_type": "markdown",
   "metadata": {},
   "source": [
    "#### Question 2.2\n",
    "\n",
    "Compléter la formulation de la question 1.2 de la deuxième partie pour prendre en compte la question précédente, en ajoutant un nouveau paramètre :\n",
    "* $N$ : un tableau contenant la production minimale de chaque objet, s'il est produit"
   ]
  },
  {
   "cell_type": "code",
   "execution_count": null,
   "metadata": {},
   "outputs": [],
   "source": [
    "###############################\n",
    "#   Saisir votre code ici.    #\n",
    "###############################"
   ]
  },
  {
   "cell_type": "markdown",
   "metadata": {},
   "source": [
    "#### Question 2.3\n",
    "\n",
    "Retrouver les résultats des questions 1.1 et 2.1 de la deuxième partie en utilisant votre formulation."
   ]
  },
  {
   "cell_type": "code",
   "execution_count": null,
   "metadata": {},
   "outputs": [],
   "source": [
    "############################## \n",
    "#   Saisir votre code ici.   #\n",
    "##############################"
   ]
  },
  {
   "cell_type": "markdown",
   "metadata": {},
   "source": [
    "#### Question 2.4\n",
    "\n",
    "Résolvez le problème pour la firme RoLiX pour 2023, les données de cette année 2023 seront celles contenues dans la cellule ci-dessous."
   ]
  },
  {
   "cell_type": "code",
   "execution_count": null,
   "metadata": {},
   "outputs": [],
   "source": [
    "#Données pour 2023 :\n",
    "n = 5\n",
    "L = [\"bouteille\", \"sachet\", \"gant\", \"N774-X2\", \"pochette\"]\n",
    "C = [6;8;24;5;4]\n",
    "V = [11;12;38;9;6]\n",
    "P = [4;4;8;4;3]\n",
    "H = [5;6;8;5;2]\n",
    "M = [200;100;300;170;150]\n",
    "N = [5;0;0;5;5]\n",
    "Q = 200\n",
    "T = 180"
   ]
  },
  {
   "cell_type": "code",
   "execution_count": null,
   "metadata": {},
   "outputs": [],
   "source": [
    "############################## \n",
    "#   Saisir votre code ici.   #\n",
    "##############################"
   ]
  }
 ],
 "metadata": {
  "@webio": {
   "lastCommId": "ff3e9586f5ab4bb8bd2512384a36046d",
   "lastKernelId": "4608fd7a-aaef-4d95-9577-187f6e69e829"
  },
  "kernelspec": {
   "display_name": "Julia 1.5.3",
   "language": "julia",
   "name": "julia-1.5"
  },
  "language_info": {
   "file_extension": ".jl",
   "mimetype": "application/julia",
   "name": "julia",
   "version": "1.5.3"
  },
  "toc": {
   "base_numbering": 1,
   "nav_menu": {},
   "number_sections": true,
   "sideBar": true,
   "skip_h1_title": true,
   "title_cell": "Table des matières",
   "title_sidebar": "Table des matières",
   "toc_cell": false,
   "toc_position": {},
   "toc_section_display": true,
   "toc_window_display": false
  },
  "varInspector": {
   "cols": {
    "lenName": 16,
    "lenType": 16,
    "lenVar": 40
   },
   "kernels_config": {
    "python": {
     "delete_cmd_postfix": "",
     "delete_cmd_prefix": "del ",
     "library": "var_list.py",
     "varRefreshCmd": "print(var_dic_list())"
    },
    "r": {
     "delete_cmd_postfix": ") ",
     "delete_cmd_prefix": "rm(",
     "library": "var_list.r",
     "varRefreshCmd": "cat(var_dic_list()) "
    }
   },
   "types_to_exclude": [
    "module",
    "function",
    "builtin_function_or_method",
    "instance",
    "_Feature"
   ],
   "window_display": false
  }
 },
 "nbformat": 4,
 "nbformat_minor": 2
}
