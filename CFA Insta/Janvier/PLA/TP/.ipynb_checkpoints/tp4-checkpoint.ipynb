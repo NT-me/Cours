{
 "cells": [
  {
   "cell_type": "markdown",
   "metadata": {
    "collapsed": true,
    "deletable": false,
    "editable": false,
    "run_control": {
     "frozen": true
    }
   },
   "source": [
    "# TP4 : Problème de découpe"
   ]
  },
  {
   "cell_type": "code",
   "execution_count": 21,
   "metadata": {},
   "outputs": [],
   "source": [
    "# Librairies à importer pour utiliser JuMP avec le solver GLPK\n",
    "using JuMP\n",
    "using GLPK\n",
    "\n",
    "# Définition de constantes pour le statut de résolution du problème\n",
    "const OPTIMAL = JuMP.MathOptInterface.OPTIMAL\n",
    "const INFEASIBLE = JuMP.MathOptInterface.INFEASIBLE\n",
    "const UNBOUNDED = JuMP.MathOptInterface.DUAL_INFEASIBLE;"
   ]
  },
  {
   "cell_type": "markdown",
   "metadata": {
    "collapsed": true,
    "deletable": false,
    "editable": false,
    "run_control": {
     "frozen": true
    }
   },
   "source": [
    "L'entreprise RoLo fabrique des rouleaux d’étoffe de 240 cm de large et de 100 m de long.\n",
    "Ses clients lui commandent des rouleaux de 100 m de long, mais dont les largeurs sont variables. \n",
    "\n",
    "\n",
    "Les commandes immédiates sont les suivantes :\n",
    "\n",
    "Nb de rouleaux | Largeur en cm\n",
    "---------------|-----------------\n",
    "1 | 110\n",
    "2 | 90\n",
    "3 | 60\n",
    "\n",
    "Comment découper les rouleaux de 240 cm de large de manière à minimiser les chutes ?\n",
    "\n",
    "\n",
    "## Exercice 1\n",
    "\n",
    "Modéliser et résoudre ce problème en JuMP.\n",
    "\n",
    "Les contraintes :\n",
    "* taille de rouleaux : on ne peut découper plus que la largeur d’un rouleau $p$,\n",
    "* satisfaction de la demande.\n",
    "\n",
    "La fonction objectif : On cherche à minimiser le nombre de rouleaux découpés.\n",
    "\n",
    "*Indication :* Il y a deux familles de variables à introduire.\n",
    "\n",
    "*Remarque :* On peut supposer que l'on a au maximum 3 rouleaux car les découpes d'une même taille tiennent dans un même rouleau.\n"
   ]
  },
  {
   "cell_type": "code",
   "execution_count": 22,
   "metadata": {
    "tags": [
     "answer"
    ]
   },
   "outputs": [
    {
     "name": "stdout",
     "output_type": "stream",
     "text": [
      "Le nombre total de rouleaux utilisés = 2.0\n"
     ]
    }
   ],
   "source": [
    "rol = Model(GLPK.Optimizer)\n",
    "\n",
    "@variable(rol, y[1:3], Bin)\n",
    "\n",
    "@variable(rol, x[1:3,1:3], Int)\n",
    "\n",
    "@objective(rol, Min, sum(y[:]))\n",
    "\n",
    "for r in 1:3\n",
    "    @constraint(rol, 110*x[1,r]+90*x[2,r]+60*x[3,r]  <= 240*y[r])\n",
    "end\n",
    "\n",
    "for t in 1:3\n",
    "    @constraint(rol, sum(x[t, r] for r in 1:3) == t)\n",
    "end\n",
    "\n",
    "#affichage du PLNE\n",
    "#print(decoupe)\n",
    "#resolution du PLNE\n",
    "optimize!(rol)\n",
    "status = termination_status(rol)\n",
    "if status == INFEASIBLE\n",
    "    println(\"Le problème n'est pas réalisable\")\n",
    "elseif status == UNBOUNDED\n",
    "    println(\"Le problème est non borné\")\n",
    "elseif status == OPTIMAL\n",
    "    println(\"Le nombre total de rouleaux utilisés = \", JuMP.objective_value(rol))\n",
    "else\n",
    "    println(\"Problème lors de la résolution\")\n",
    "end\n"
   ]
  },
  {
   "cell_type": "markdown",
   "metadata": {
    "deletable": false,
    "editable": false,
    "run_control": {
     "frozen": true
    }
   },
   "source": [
    "## Exercice 2\n",
    "\n",
    "### Question 1\n",
    "\n",
    "Écrire sur feuille une formulation générique du problème de découpe minimisant le nombre de chutes, c'est-à-dire une formulation qui dépend des paramètres suivants :\n",
    "\n",
    "Les données génériques :\n",
    "* $L$ : la largeur d’un rouleau à découper\n",
    "* $n$ : le nombre de types de rouleaux commandés\n",
    "* $\\ell_i$ : la largeur du rouleau de type $i$\n",
    "* $b_i$ : la quantité de rouleaux de type $i$ demandés\n",
    "* $P$ : le nombre total de rouleaux de taille $240\\times100$ disponibles. On suppose que le nombre de rouleaux disponible est suffisant pour satisfaire la demande (c'est-à-dire $P = \\sum_{i=1}^k b_i$).\n",
    "\n",
    "Les contraintes :\n",
    "* taille de rouleaux : on ne peut découper plus que la largeur d’un rouleau $p$,\n",
    "* satisfaction de la demande.\n",
    "\n",
    "La fonction objectif : On cherche à minimiser le nombre de rouleaux découpés.\n",
    "\n",
    "Indication : Il y a deux familles de variables à introduire."
   ]
  },
  {
   "cell_type": "markdown",
   "metadata": {
    "deletable": false,
    "editable": false,
    "run_control": {
     "frozen": true
    }
   },
   "source": [
    "### Question 2\n",
    "\n",
    "Écrire cette formulation générique en JuMP. Afficher le découpage de chaque rouleau de manière claire."
   ]
  },
  {
   "cell_type": "code",
   "execution_count": 25,
   "metadata": {
    "tags": [
     "answer"
    ]
   },
   "outputs": [
    {
     "ename": "LoadError",
     "evalue": "syntax: expected space before \"for\"",
     "output_type": "error",
     "traceback": [
      "syntax: expected space before \"for\"",
      "",
      "Stacktrace:",
      " [1] top-level scope at In[25]:20",
      " [2] include_string(::Function, ::Module, ::String, ::String) at .\\loading.jl:1091"
     ]
    }
   ],
   "source": [
    "\n",
    "function optimise_decoupe(L, n, li, bi, P)\n",
    "    rol = Model(GLPK.Optimizer)\n",
    "    \n",
    "    #variables binaires y[r] pour chaque rouleau de 240 r = 1,...,3 qui vaut 0 si on ne découpe pas ce rouleau et 1 sinon\n",
    "    @variable(rol, y[1:P], Bin)\n",
    "\n",
    "    #variables entières x[t,r] pour le nombre de rouleaux de type t découpés dans le rouleau r\n",
    "    #rouleaux de type 1 : 110cm de large, type 2 : 90cm, et type 3 : 60cm.\n",
    "    @variable(rol, x[1:n,1:P], Int)\n",
    "\n",
    "    #fonction objectif : minimiser le nombre de rouleaux découpés\n",
    "    @objective(rol, Min, sum(y[:]))\n",
    "\n",
    "    #contraintes : taille de rouleau \n",
    "    #x[1,2] nombre de rouleaux de type 1 découpés dans le rouleau n°2\n",
    "    #x[2,2] nombre de rouleaux de type 2 découpés dans le rouleau n°2\n",
    "    #x[3,2] nombre de rouleaux de type 3 découpés dans le rouleau n°2\n",
    "    for r in 1:P\n",
    "        @constraint(rol, sum(li[t]*x[t,r])  <= L*y[r])\n",
    "    \n",
    "    end\n",
    "\n",
    "    #contraintes : satisfaction de la demande\n",
    "    for t in 1:n\n",
    "        @constraint(rol, sum(x[t, r] for r in 1:P) == bi[t])\n",
    "    end\n",
    "end"
   ]
  },
  {
   "cell_type": "markdown",
   "metadata": {
    "deletable": false,
    "editable": false,
    "run_control": {
     "frozen": true
    }
   },
   "source": [
    "### Question 3\n",
    "\n",
    "Vérifiez que votre formulation est correcte en retrouvant les résultats de la Question 1."
   ]
  },
  {
   "cell_type": "code",
   "execution_count": 24,
   "metadata": {
    "tags": [
     "answer"
    ]
   },
   "outputs": [
    {
     "ename": "LoadError",
     "evalue": "UndefVarError: t not defined",
     "output_type": "error",
     "traceback": [
      "UndefVarError: t not defined",
      "",
      "Stacktrace:",
      " [1] macro expansion at C:\\Users\\Theo\\.julia\\packages\\MutableArithmetics\\bPWR4\\src\\rewrite.jl:276 [inlined]",
      " [2] macro expansion at C:\\Users\\Theo\\.julia\\packages\\JuMP\\qhoVb\\src\\macros.jl:440 [inlined]",
      " [3] optimise_decoupe(::Int64, ::Int64, ::Array{Int64,1}, ::Array{Int64,1}, ::Int64) at .\\In[23]:20",
      " [4] top-level scope at In[24]:4",
      " [5] include_string(::Function, ::Module, ::String, ::String) at .\\loading.jl:1091"
     ]
    }
   ],
   "source": [
    "############################## \n",
    "#   Saisir votre code ici.   #\n",
    "##############################\n",
    "optimise_decoupe(240, 3, [110;90;60], [1;2;3], 3)"
   ]
  },
  {
   "cell_type": "markdown",
   "metadata": {
    "deletable": false,
    "editable": false,
    "run_control": {
     "frozen": true
    }
   },
   "source": [
    "### Question 4\n",
    "\n",
    "Résoudre le problème donné par les valeurs suivantes : "
   ]
  },
  {
   "cell_type": "code",
   "execution_count": null,
   "metadata": {},
   "outputs": [],
   "source": [
    "L = 240\n",
    "n = 5\n",
    "l = [110;55;75;90;45]\n",
    "b = [3;5;2;1;5]\n",
    "P = 16"
   ]
  },
  {
   "cell_type": "code",
   "execution_count": null,
   "metadata": {
    "tags": [
     "answer"
    ]
   },
   "outputs": [],
   "source": [
    "############################## \n",
    "#   Saisir votre code ici.   #\n",
    "##############################\n"
   ]
  },
  {
   "cell_type": "code",
   "execution_count": null,
   "metadata": {},
   "outputs": [],
   "source": []
  },
  {
   "cell_type": "code",
   "execution_count": null,
   "metadata": {},
   "outputs": [],
   "source": []
  },
  {
   "cell_type": "code",
   "execution_count": null,
   "metadata": {},
   "outputs": [],
   "source": []
  },
  {
   "cell_type": "code",
   "execution_count": null,
   "metadata": {},
   "outputs": [],
   "source": []
  }
 ],
 "metadata": {
  "@webio": {
   "lastCommId": "340e52c35fbf4c9186c35f99639218b0",
   "lastKernelId": "679fe7ec-33f0-498d-a4d0-d779ccbbb42f"
  },
  "anaconda-cloud": {},
  "kernelspec": {
   "display_name": "Julia 1.5.3",
   "language": "julia",
   "name": "julia-1.5"
  },
  "language_info": {
   "file_extension": ".jl",
   "mimetype": "application/julia",
   "name": "julia",
   "version": "1.5.3"
  },
  "toc": {
   "base_numbering": 1,
   "nav_menu": {},
   "number_sections": true,
   "sideBar": true,
   "skip_h1_title": true,
   "title_cell": "Table des matières",
   "title_sidebar": "Table des matières",
   "toc_cell": false,
   "toc_position": {},
   "toc_section_display": true,
   "toc_window_display": false
  },
  "varInspector": {
   "cols": {
    "lenName": 16,
    "lenType": 16,
    "lenVar": 40
   },
   "kernels_config": {
    "python": {
     "delete_cmd_postfix": "",
     "delete_cmd_prefix": "del ",
     "library": "var_list.py",
     "varRefreshCmd": "print(var_dic_list())"
    },
    "r": {
     "delete_cmd_postfix": ") ",
     "delete_cmd_prefix": "rm(",
     "library": "var_list.r",
     "varRefreshCmd": "cat(var_dic_list()) "
    }
   },
   "types_to_exclude": [
    "module",
    "function",
    "builtin_function_or_method",
    "instance",
    "_Feature"
   ],
   "window_display": false
  }
 },
 "nbformat": 4,
 "nbformat_minor": 2
}
