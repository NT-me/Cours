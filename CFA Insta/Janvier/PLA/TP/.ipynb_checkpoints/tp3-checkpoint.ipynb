{
 "cells": [
  {
   "cell_type": "markdown",
   "metadata": {
    "deletable": false,
    "editable": false,
    "run_control": {
     "frozen": true
    }
   },
   "source": [
    "# TP3 : Modélisation"
   ]
  },
  {
   "cell_type": "code",
   "execution_count": 4,
   "metadata": {},
   "outputs": [],
   "source": [
    "# Librairies à importer pour utiliser JuMP avec le solver GLPK\n",
    "using JuMP\n",
    "using GLPK\n",
    "\n",
    "# Définition de constantes pour le statut de résolution du problème\n",
    "const OPTIMAL = JuMP.MathOptInterface.OPTIMAL\n",
    "const INFEASIBLE = JuMP.MathOptInterface.INFEASIBLE\n",
    "const UNBOUNDED = JuMP.MathOptInterface.DUAL_INFEASIBLE;"
   ]
  },
  {
   "cell_type": "markdown",
   "metadata": {
    "deletable": false,
    "editable": false,
    "run_control": {
     "frozen": true
    }
   },
   "source": [
    "## Exercice 1 : Équipe de superhéros\n",
    "\n",
    "Pour combattre les aliens qui envahissent la terre, il faut créer une équipe de superhéros travaillant main dans la main. Malheureusement, certains superhéros sont ennemis et ne peuvent donc pas faire équipe...  Combien de superhéros peuvent aller combattre les aliens ? Il faut trouver l'équipe la plus importante possible sans ennemis... Le sort de la terre en dépend !\n",
    "\n",
    "Voici la liste des superhéros : \n",
    "   * Batman\n",
    "   * Superman\n",
    "   * Catwoman\n",
    "   * Flash\n",
    "   * Wonder woman\n",
    "   * Black Panther\n",
    "   * Captain America\n",
    "   * Daredevil\n",
    "   * Elektra\n",
    "   * Hulk\n",
    "\n",
    "Et voici maintenant la liste des ennemis jurés : \n",
    "   * Batman et Flash\n",
    "   * Catwoman et Captain America\n",
    "   * Daredevil et Elektra\n",
    "   * Hulk et Batman\n",
    "   * Catwoman et Wonder woman\n",
    "   * Black Panther et Hulk\n",
    "   * Superman et Flash\n",
    "   * Superman et Elektra\n",
    "   * Flash et Daredevil\n",
    "   * Wonder woman et Captain America\n",
    "   * Daredevil et Hulk\n",
    "   * Batman et Captain America\n",
    "   * Batman et Wonder woman\n",
    "   * Black Panther et Wonder woman\n",
    "\n",
    "\n",
    "\n",
    "**Remarque :** Il est possible de définir des variables indexées par un tableau de chaînes de caractères. Par exemple, il est possible de déclarer les variables `@variable(m,x[Superhéros])`\n",
    "\n",
    "\n",
    "\n"
   ]
  },
  {
   "cell_type": "code",
   "execution_count": 6,
   "metadata": {},
   "outputs": [],
   "source": [
    "#=\n",
    "    DONNÉES\n",
    "=#\n",
    "\n",
    "Superhéros = [\n",
    " \"Batman\",\n",
    " \"Superman\",\n",
    " \"Catwoman\",\n",
    " \"Flash\",\n",
    " \"Wonder woman\",\n",
    " \"Black Panther\",\n",
    " \"Captain America\",\n",
    " \"Daredevil\",\n",
    " \"Elektra\",\n",
    " \"Hulk\"\n",
    "]\n",
    "\n",
    "\n",
    "Ennemis = [\n",
    "  [\"Batman\", \"Flash\"],\n",
    "  [\"Catwoman\", \"Captain America\"],\n",
    "  [\"Daredevil\", \"Elektra\"],\n",
    "  [\"Hulk\", \"Batman\"],\n",
    "  [\"Catwoman\", \"Wonder woman\"],\n",
    "  [\"Black Panther\", \"Hulk\"],\n",
    "  [\"Superman\", \"Flash\"],\n",
    "  [\"Superman\", \"Elektra\"],\n",
    "  [\"Flash\", \"Daredevil\"],\n",
    "  [\"Wonder woman\", \"Captain America\"],\n",
    "  [\"Daredevil\", \"Hulk\"],\n",
    "  [\"Batman\", \"Captain America\"],\n",
    "  [\"Batman\", \"Wonder woman\"],\n",
    "  [\"Black Panther\", \"Wonder woman\"]\n",
    "];"
   ]
  },
  {
   "cell_type": "code",
   "execution_count": 8,
   "metadata": {
    "tags": [
     "answer"
    ]
   },
   "outputs": [
    {
     "name": "stdout",
     "output_type": "stream",
     "text": [
      "Max x[Batman] + x[Superman] + x[Catwoman] + x[Flash] + x[Wonder woman] + x[Black Panther] + x[Captain America] + x[Daredevil] + x[Elektra] + x[Hulk]\n",
      "Subject to\n",
      " x[Batman] + x[Flash] <= 1.0\n",
      " x[Catwoman] + x[Captain America] <= 1.0\n",
      " x[Daredevil] + x[Elektra] <= 1.0\n",
      " x[Batman] + x[Hulk] <= 1.0\n",
      " x[Catwoman] + x[Wonder woman] <= 1.0\n",
      " x[Black Panther] + x[Hulk] <= 1.0\n",
      " x[Superman] + x[Flash] <= 1.0\n",
      " x[Superman] + x[Elektra] <= 1.0\n",
      " x[Flash] + x[Daredevil] <= 1.0\n",
      " x[Wonder woman] + x[Captain America] <= 1.0\n",
      " x[Daredevil] + x[Hulk] <= 1.0\n",
      " x[Batman] + x[Captain America] <= 1.0\n",
      " x[Batman] + x[Wonder woman] <= 1.0\n",
      " x[Wonder woman] + x[Black Panther] <= 1.0\n",
      " x[Batman] binary\n",
      " x[Superman] binary\n",
      " x[Catwoman] binary\n",
      " x[Flash] binary\n",
      " x[Wonder woman] binary\n",
      " x[Black Panther] binary\n",
      " x[Captain America] binary\n",
      " x[Daredevil] binary\n",
      " x[Elektra] binary\n",
      " x[Hulk] binary\n"
     ]
    }
   ],
   "source": [
    "m = Model(GLPK.Optimizer)\n",
    "\n",
    "@variable(m,x[Superhéros], Bin)\n",
    "\n",
    "@objective(m, Max, sum(x[s] for s in Superhéros))\n",
    "\n",
    "for en in Ennemis\n",
    "    @constraint(m, x[en[1]] + x[en[2]] <= 1)\n",
    "end\n",
    "\n",
    "print(m)\n",
    "\n",
    "optimize!(m)\n",
    "\n",
    "status = termination_status(m)\n",
    "\n",
    "\n",
    "if status == INFEASIBLE\n",
    "    println(\"Le problème n'est pas réalisable\")\n",
    "elseif status == UNBOUNDED\n",
    "    println(\"Le problème est non borné\")\n",
    "elseif status == OPTIMAL\n",
    "    println(\"Optimum = \", JuMP.objective_value(m))\n",
    "    println(\"Solution optimale :\")\n",
    "    println(\"Liste des superhéros selectionnés:\")\n",
    "    for s in Superhéros:\n",
    "        if JuMP.value(x[s]) == 1\n",
    "            println(s)\n",
    "        end\n",
    "\n",
    "else\n",
    "    println(\"Problème lors de la résolution\")\n",
    "end\n"
   ]
  },
  {
   "cell_type": "markdown",
   "metadata": {
    "deletable": false,
    "editable": false,
    "run_control": {
     "frozen": true
    }
   },
   "source": [
    "## Exercice 2 : Pause sudoku\n",
    "\n",
    "\n",
    "Le but de cet exercice est de résoudre cette grille de sudoku **à l'aide de la programmation linéaire en nombres entiers !**\n",
    "\n",
    "<img src=\"img/grille_sudoku.png\" alt=\"Grille de sudoku\" style=\"width: 400px;\"/>\n",
    "\n",
    "**Remarque :** On utilisera comme variable `x[i,j,k]` qui vaut 1 si la case (i,j) contient la valeur k, et 0 sinon."
   ]
  },
  {
   "cell_type": "code",
   "execution_count": null,
   "metadata": {},
   "outputs": [],
   "source": [
    "#=\n",
    "    DONNÉES\n",
    "=#\n",
    "\n",
    "Grille = [\n",
    "  5 3 0 0 7 0 0 0 0;\n",
    "  6 0 0 1 9 5 0 0 0;\n",
    "  0 9 8 0 0 0 0 6 0;\n",
    "  8 0 0 0 6 0 0 0 3;\n",
    "  4 0 0 8 0 3 0 0 1;\n",
    "  7 0 0 0 2 0 0 0 6;\n",
    "  0 6 0 0 0 0 2 8 0;\n",
    "  0 0 0 4 1 9 0 0 5;\n",
    "  0 0 0 0 8 0 0 7 9\n",
    "];"
   ]
  },
  {
   "cell_type": "code",
   "execution_count": null,
   "metadata": {
    "tags": [
     "answer"
    ]
   },
   "outputs": [],
   "source": []
  }
 ],
 "metadata": {
  "@webio": {
   "lastCommId": "b1a889be45a24cbc8916d0eb444b98a6",
   "lastKernelId": "80a18d9b-e0b6-4f5b-a8fd-5998dd4aca5d"
  },
  "kernelspec": {
   "display_name": "Julia 1.5.3",
   "language": "julia",
   "name": "julia-1.5"
  },
  "language_info": {
   "file_extension": ".jl",
   "mimetype": "application/julia",
   "name": "julia",
   "version": "1.5.3"
  },
  "toc": {
   "base_numbering": 1,
   "nav_menu": {},
   "number_sections": true,
   "sideBar": true,
   "skip_h1_title": true,
   "title_cell": "Table des matières",
   "title_sidebar": "Table des matières",
   "toc_cell": false,
   "toc_position": {},
   "toc_section_display": true,
   "toc_window_display": false
  },
  "varInspector": {
   "cols": {
    "lenName": 16,
    "lenType": 16,
    "lenVar": 40
   },
   "kernels_config": {
    "python": {
     "delete_cmd_postfix": "",
     "delete_cmd_prefix": "del ",
     "library": "var_list.py",
     "varRefreshCmd": "print(var_dic_list())"
    },
    "r": {
     "delete_cmd_postfix": ") ",
     "delete_cmd_prefix": "rm(",
     "library": "var_list.r",
     "varRefreshCmd": "cat(var_dic_list()) "
    }
   },
   "types_to_exclude": [
    "module",
    "function",
    "builtin_function_or_method",
    "instance",
    "_Feature"
   ],
   "window_display": false
  }
 },
 "nbformat": 4,
 "nbformat_minor": 2
}
