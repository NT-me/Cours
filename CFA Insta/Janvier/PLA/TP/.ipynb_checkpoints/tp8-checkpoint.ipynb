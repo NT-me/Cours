{
 "cells": [
  {
   "cell_type": "markdown",
   "metadata": {},
   "source": [
    "# TP 8"
   ]
  },
  {
   "cell_type": "code",
   "execution_count": 2,
   "metadata": {},
   "outputs": [],
   "source": [
    "# Librairies à importer pour utiliser JuMP avec le solver GLPK\n",
    "using JuMP\n",
    "using GLPK\n",
    "\n",
    "# Définition de constantes pour le statut de résolution du problème\n",
    "const OPTIMAL = JuMP.MathOptInterface.OPTIMAL\n",
    "const INFEASIBLE = JuMP.MathOptInterface.INFEASIBLE\n",
    "const UNBOUNDED = JuMP.MathOptInterface.DUAL_INFEASIBLE;"
   ]
  },
  {
   "cell_type": "markdown",
   "metadata": {},
   "source": [
    "## Abigaïl fait des cocktails"
   ]
  },
  {
   "cell_type": "markdown",
   "metadata": {},
   "source": [
    "Abigaïl organise une soirée cocktails et dispose des alcools suivants : 1.2 litres de whisky, 1.8 litres de vodka,\n",
    "1.6 litres de vermouth blanc, 1.8 litres de vermouth rouge, 0.6 litres de cognac et de 0.5 litres de liqueur au\n",
    "café. Elle veut offrir 5 cocktails différents, à savoir :\n",
    "- Chauncy : 2/3 (6.66) whisky, 1/3(3.33) vermouth rouge\n",
    "- Black Russian : 3/4(7.5) vodka, 1/4(2.5) liqueur\n",
    "- Sweet Italian : 1/2(5) cognac, 1/4(2.5) vermouth rouge, 1/4(2.5) vermouth blanc\n",
    "- Molotov Cocktail : 2/3(6.66) vodka, 1/3(3.33) vermouth blanc\n",
    "- Whisky on the Rocks : 1/1(10) whisky\n",
    "\n",
    "Chaque cocktail a un contenu de 10 cl. Abigaïl veut mixer les cocktails de manière à maximiser le\n",
    "nombre total de cocktails servis. En plus elle pense que le Molotov Cocktail se vend bien et elle veut donc en\n",
    "avoir au moins deux fois plus que le nombre de cocktails Black Russian."
   ]
  },
  {
   "cell_type": "markdown",
   "metadata": {},
   "source": [
    "### Question 1\n",
    "#### Question 1.1\n",
    "\n",
    "Donner une formulation PLNE modélisant le problème, et le résoudre, en : \n",
    "\n",
    "* Proposant un choix de variables pour représenter les décisions à prendre dans ce problème. Pour chaque groupe de variables, indiquer ce qu'elles signifient, ainsi que le type, bornes inférieures et supérieures, ensembles d'appartenance des indices.\n",
    "\n",
    "* Expliquant à la fois la fonction objective et chacune des (familles de) contraintes."
   ]
  },
  {
   "cell_type": "code",
   "execution_count": 25,
   "metadata": {},
   "outputs": [
    {
     "name": "stdout",
     "output_type": "stream",
     "text": [
      "Max x[1] + x[2] + x[3] + x[4] + x[5]\n",
      "Subject to\n",
      " 6.666666666666666 x[1] + 10 x[5] <= 120.0\n",
      " 7.5 x[2] + 6.666666666666666 x[4] <= 180.0\n",
      " 2.5 x[3] + 3.333333333333333 x[4] <= 160.0\n",
      " 3.333333333333333 x[1] + 2.5 x[3] <= 180.0\n",
      " 5 x[3] <= 60.0\n",
      " 2.5 x[2] <= 50.0\n",
      " 2 x[2] - x[4] <= 0.0\n",
      " x[1] >= 0.0\n",
      " x[2] >= 0.0\n",
      " x[3] >= 0.0\n",
      " x[4] >= 0.0\n",
      " x[5] >= 0.0\n",
      " x[1] integer\n",
      " x[2] integer\n",
      " x[3] integer\n",
      " x[4] integer\n",
      " x[5] integer\n",
      "Optimum = 57.0\n",
      "Chuancy = 18.0\n",
      "Black Russian = 0.0\n",
      "Sweet Italian = 12.0\n",
      "Molotov Cocktail = 27.0\n",
      "Whisky on the Rocks = 0.0\n"
     ]
    }
   ],
   "source": [
    "############################## \n",
    "#   Saisir votre code ici.   #\n",
    "##############################\n",
    "cocktail = Model(GLPK.Optimizer)\n",
    "\n",
    "@variable(cocktail,0 <= x[1:5],Int) # CHauqe case c'est un coktail\n",
    "\n",
    "@objective(cocktail, Max ,sum(x[:])) # Sum de tous les cocktails\n",
    "\n",
    "#Qt d'alcool pour chaque cocktail\n",
    "@constraint(cocktail,2/3*10*x[1]+1*10*x[5]<=120) # Whisky\n",
    "@constraint(cocktail,3/4*10*x[2]+2/3*10*x[4]<=180)# Vodka\n",
    "@constraint(cocktail,1/4*10*x[3]+1/3*10*x[4]<=160) # Vermouth blanc\n",
    "@constraint(cocktail, 1/4*10x[3] + 1/3*10x[1] <= 180) # Vermouth rouge\n",
    "@constraint(cocktail,1/2*10*x[3]<=60) # Cognac\n",
    "@constraint(cocktail,1/4*10*x[2]<=50) # Liqueur\n",
    "\n",
    "# Deux fois plus de molotov que black russian\n",
    "@constraint(cocktail, 2*x[2] <= x[4])\n",
    "\n",
    "print(cocktail)\n",
    "\n",
    "optimize!(cocktail)\n",
    "status = termination_status(cocktail)\n",
    "if status == INFEASIBLE\n",
    "    println(\"Le problème n'est pas réalisable\")\n",
    "elseif status == UNBOUNDED\n",
    "    println(\"Le problème est non borné\")\n",
    "elseif status == OPTIMAL\n",
    "    println(\"Optimum = \", JuMP.objective_value(cocktail))\n",
    "    println(\"Chuancy = \", JuMP.value(x[1]))\n",
    "    println(\"Black Russian = \", JuMP.value(x[2]))\n",
    "    println(\"Sweet Italian = \", JuMP.value(x[3]))\n",
    "    println(\"Molotov Cocktail = \", JuMP.value(x[4]))\n",
    "    println(\"Whisky on the Rocks = \", JuMP.value(x[5]))\n",
    "else\n",
    "    println(\"Problème lors de la résolution\")\n",
    "end\n"
   ]
  },
  {
   "cell_type": "markdown",
   "metadata": {},
   "source": [
    "#### Question 1.2\n",
    "**Pour la suite, on supprime la contrainte \"au moins deux fois plus que le nombre de cocktails Black Russian\"**\n",
    "\n",
    "Implémenter une formulation générique en Julia/JuMP, prenant comme paramètres :\n",
    "- n : nombre de types de cocktail\n",
    "- Q : tableau à 2 dimensions où Qij contient la proportion d'alcool j dans le cocktail de type i\n",
    "- A : tableau contenant les quantités d'alcool disponible\n",
    "\n",
    "Donner un affichage clair (en Julia) de la solution : indiquer le nombre de chaque cocktail servi, ainsi que le stock restant pour chaque alcool.\n",
    "\n",
    "Résoudre l'instance décrite plus haut."
   ]
  },
  {
   "cell_type": "code",
   "execution_count": 34,
   "metadata": {
    "scrolled": true
   },
   "outputs": [
    {
     "name": "stdout",
     "output_type": "stream",
     "text": [
      "Max x[1] + x[2] + x[3] + x[4] + x[5]\n",
      "Subject to\n",
      " 0.6666666666666666 x[1] + x[5] <= 12.0\n",
      " 0.75 x[2] + 0.6666666666666666 x[4] <= 18.0\n",
      " 0.25 x[3] + 0.3333333333333333 x[4] <= 16.0\n",
      " 0.3333333333333333 x[1] + 0.25 x[3] <= 18.0\n",
      " 0.5 x[3] <= 6.0\n",
      " 0.25 x[2] <= 5.0\n",
      " x[1] >= 0.0\n",
      " x[2] >= 0.0\n",
      " x[3] >= 0.0\n",
      " x[4] >= 0.0\n",
      " x[5] >= 0.0\n",
      " x[1] integer\n",
      " x[2] integer\n",
      " x[3] integer\n",
      " x[4] integer\n",
      " x[5] integer\n",
      "Nombre de cocktails servis = 57.0\n",
      "Stock restant pour chaque alcool :\n",
      "il reste 0.0 dl d'alcool 1\n",
      "il reste 0.0 dl d'alcool 2\n",
      "il reste 4.0 dl d'alcool 3\n",
      "il reste 9.0 dl d'alcool 4\n",
      "il reste 0.0 dl d'alcool 5\n",
      "il reste 5.0 dl d'alcool 6\n"
     ]
    }
   ],
   "source": [
    "############################## \n",
    "#   Saisir votre code ici.   #\n",
    "##############################\n",
    "\n",
    "function opti_alcool(n, Q, A)\n",
    "    cocktail = Model(GLPK.Optimizer)\n",
    "    \n",
    "    a = length(A)\n",
    "\n",
    "    @variable(cocktail,0 <= x[1:5],Int) # CHauqe case c'est un coktail\n",
    "\n",
    "    @objective(cocktail, Max ,sum(x[:])) # Sum de tous les cocktails\n",
    "\n",
    "    #Qt d'alcool pour chaque cocktail\n",
    "    for alcool in 1:a\n",
    "        @constraint(cocktail, sum(Q[i, alcool]*x[i] for i in 1:n) <= A[alcool])\n",
    "    end\n",
    "\n",
    "\n",
    "    print(cocktail)\n",
    "\n",
    "    optimize!(cocktail)\n",
    "    status = termination_status(cocktail)\n",
    "    if status == INFEASIBLE\n",
    "        println(\"Le problème n'est pas réalisable\")\n",
    "    elseif status == UNBOUNDED\n",
    "        println(\"Le problème est non borné\")\n",
    "    elseif status == OPTIMAL\n",
    "        println(\"Nombre de cocktails servis = \", JuMP.objective_value(cocktail))\n",
    "        println(\"Stock restant pour chaque alcool :\")\n",
    "        for alcool in 1:a\n",
    "            println(\"il reste \", A[alcool] - sum(Q[i,alcool]*JuMP.value(x[i]) for i in 1:n), \" dl d'alcool $alcool\")\n",
    "        end\n",
    "    else\n",
    "        println(\"Problème lors de la résolution\")\n",
    "    end\n",
    "end\n",
    "\n",
    "\n",
    "n = 5\n",
    "A = [12;18;16;18;6;5]\n",
    "Q = [\n",
    "2/3 0 0 1/3 0 0;\n",
    "0 3/4 0 0 0 1/4;\n",
    "0 0 1/4 1/4 1/2 0;\n",
    "0 2/3 1/3 0 0 0 ;\n",
    "1 0 0 0 0 0\n",
    "]\n",
    "\n",
    "opti_alcool(n, Q, A)"
   ]
  },
  {
   "cell_type": "markdown",
   "metadata": {},
   "source": [
    "### Question 2\n",
    "#### Question 2.1\n",
    "\n",
    "Abigaïl aime bien la vodka. S’il reste au moins 0.25 litres de vodka, elle est d’accord pour diminuer le nombre de cocktails servis de 5.\n",
    "\n",
    "Modifier la formulation précédente pour prendre cela en compte."
   ]
  },
  {
   "cell_type": "code",
   "execution_count": 35,
   "metadata": {},
   "outputs": [
    {
     "name": "stdout",
     "output_type": "stream",
     "text": [
      "Max x[1] + x[2] + x[3] + x[4] + x[5]\n",
      "Subject to\n",
      " 0.6666666666666666 x[1] + x[5] <= 12.0\n",
      " 0.75 x[2] + 0.6666666666666666 x[4] <= 18.0\n",
      " 0.25 x[3] + 0.3333333333333333 x[4] <= 16.0\n",
      " 0.3333333333333333 x[1] + 0.25 x[3] <= 18.0\n",
      " 0.5 x[3] <= 6.0\n",
      " 0.25 x[2] <= 5.0\n",
      " x[1] >= 0.0\n",
      " x[2] >= 0.0\n",
      " x[3] >= 0.0\n",
      " x[4] >= 0.0\n",
      " x[5] >= 0.0\n",
      " x[1] integer\n",
      " x[2] integer\n",
      " x[3] integer\n",
      " x[4] integer\n",
      " x[5] integer\n",
      "Nombre de cocktails servis = 57.0\n",
      "Stock restant pour chaque alcool :\n",
      "il reste 0.0 dl d'alcool 1\n",
      "il reste 0.0 dl d'alcool 2\n",
      "il reste 4.0 dl d'alcool 3\n",
      "il reste 9.0 dl d'alcool 4\n",
      "il reste 0.0 dl d'alcool 5\n",
      "il reste 5.0 dl d'alcool 6\n"
     ]
    }
   ],
   "source": [
    "############################## \n",
    "#   Saisir votre code ici.   #\n",
    "##############################\n",
    "\n",
    "function opti_alcool_vodK(n, Q, A)\n",
    "    cocktail = Model(GLPK.Optimizer)\n",
    "    \n",
    "    a = length(A)\n",
    "\n",
    "    @variable(cocktail,0 <= x[1:6],Int) # Chaque case c'est un coktail\n",
    "\n",
    "    @objective(cocktail, Max ,sum(x[:])) # Sum de tous les cocktails\n",
    "    \n",
    "    @constraint(cocktail, x[6] <= 1)\n",
    "    #Qt d'alcool pour chaque cocktail\n",
    "    for alcool in 1:a\n",
    "        @constraint(cocktail, sum(Q[i, alcool]*x[i] for i in 1:n) <= A[alcool])\n",
    "    end\n",
    "\n",
    "\n",
    "    print(cocktail)\n",
    "\n",
    "    optimize!(cocktail)\n",
    "    status = termination_status(cocktail)\n",
    "    if status == INFEASIBLE\n",
    "        println(\"Le problème n'est pas réalisable\")\n",
    "    elseif status == UNBOUNDED\n",
    "        println(\"Le problème est non borné\")\n",
    "    elseif status == OPTIMAL\n",
    "        println(\"Nombre de cocktails servis = \", JuMP.objective_value(cocktail))\n",
    "        println(\"Stock restant pour chaque alcool :\")\n",
    "        for alcool in 1:a\n",
    "            println(\"il reste \", A[alcool] - sum(Q[i,alcool]*JuMP.value(x[i]) for i in 1:n), \" dl d'alcool $alcool\")\n",
    "        end\n",
    "    else\n",
    "        println(\"Problème lors de la résolution\")\n",
    "    end\n",
    "end\n",
    "\n",
    "\n",
    "n = 5\n",
    "A = [12;18;16;18;6;5]\n",
    "Q = [\n",
    "2/3 0 0 1/3 0 0;\n",
    "0 3/4 0 0 0 1/4;\n",
    "0 0 1/4 1/4 1/2 0;\n",
    "0 2/3 1/3 0 0 0 ;\n",
    "1 0 0 0 0 0\n",
    "]\n",
    "\n",
    "opti_alcool_vodK(n, Q, A)"
   ]
  },
  {
   "cell_type": "markdown",
   "metadata": {},
   "source": [
    "#### Question 2.2\n",
    "\n",
    "Utiliser la formulation précédente pour résoudre le problème avec les valeurs données en début d'énoncé."
   ]
  },
  {
   "cell_type": "code",
   "execution_count": null,
   "metadata": {},
   "outputs": [],
   "source": [
    "############################## \n",
    "#   Saisir votre code ici.   #\n",
    "##############################"
   ]
  },
  {
   "cell_type": "markdown",
   "metadata": {},
   "source": [
    "#### Question 2.3\n",
    "\n",
    "Oups, Abigaïl a mal lu les stocks disponibles (la vodka n'a pas du aider), qui sont en fait les suivants : 2.2 litres de whisky, 1.5 litres de vodka, 1.2 litres de vermouth blanc, 2.1 litres de vermouth rouge, 0.8 litres de cognac et de 0.7 litres de liqueur au café.\n",
    "\n",
    "Résoudre le problème avec ces nouvelles valeurs en utilisant la formulation précédente."
   ]
  },
  {
   "cell_type": "code",
   "execution_count": null,
   "metadata": {},
   "outputs": [],
   "source": [
    "############################## \n",
    "#   Saisir votre code ici.   #\n",
    "##############################"
   ]
  },
  {
   "cell_type": "code",
   "execution_count": null,
   "metadata": {},
   "outputs": [],
   "source": []
  }
 ],
 "metadata": {
  "@webio": {
   "lastCommId": "ff3e9586f5ab4bb8bd2512384a36046d",
   "lastKernelId": "4608fd7a-aaef-4d95-9577-187f6e69e829"
  },
  "kernelspec": {
   "display_name": "Julia 1.5.3",
   "language": "julia",
   "name": "julia-1.5"
  },
  "language_info": {
   "file_extension": ".jl",
   "mimetype": "application/julia",
   "name": "julia",
   "version": "1.5.3"
  },
  "toc": {
   "base_numbering": 1,
   "nav_menu": {},
   "number_sections": true,
   "sideBar": true,
   "skip_h1_title": true,
   "title_cell": "Table des matières",
   "title_sidebar": "Table des matières",
   "toc_cell": false,
   "toc_position": {},
   "toc_section_display": true,
   "toc_window_display": false
  },
  "varInspector": {
   "cols": {
    "lenName": 16,
    "lenType": 16,
    "lenVar": 40
   },
   "kernels_config": {
    "python": {
     "delete_cmd_postfix": "",
     "delete_cmd_prefix": "del ",
     "library": "var_list.py",
     "varRefreshCmd": "print(var_dic_list())"
    },
    "r": {
     "delete_cmd_postfix": ") ",
     "delete_cmd_prefix": "rm(",
     "library": "var_list.r",
     "varRefreshCmd": "cat(var_dic_list()) "
    }
   },
   "types_to_exclude": [
    "module",
    "function",
    "builtin_function_or_method",
    "instance",
    "_Feature"
   ],
   "window_display": false
  }
 },
 "nbformat": 4,
 "nbformat_minor": 2
}
