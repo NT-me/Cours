{
 "cells": [
  {
   "cell_type": "markdown",
   "metadata": {
    "deletable": false,
    "editable": false,
    "run_control": {
     "frozen": true
    }
   },
   "source": [
    "# TP3 : Modélisation"
   ]
  },
  {
   "cell_type": "code",
   "execution_count": 3,
   "metadata": {},
   "outputs": [],
   "source": [
    "# Librairies à importer pour utiliser JuMP avec le solver GLPK\n",
    "using JuMP\n",
    "using GLPK\n",
    "\n",
    "# Définition de constantes pour le statut de résolution du problème\n",
    "const OPTIMAL = JuMP.MathOptInterface.OPTIMAL\n",
    "const INFEASIBLE = JuMP.MathOptInterface.INFEASIBLE\n",
    "const UNBOUNDED = JuMP.MathOptInterface.DUAL_INFEASIBLE;"
   ]
  },
  {
   "cell_type": "markdown",
   "metadata": {
    "deletable": false,
    "editable": false,
    "run_control": {
     "frozen": true
    }
   },
   "source": [
    "## Exercice 1 : Équipe de superhéros\n",
    "\n",
    "Pour combattre les aliens qui envahissent la terre, il faut créer une équipe de superhéros travaillant main dans la main. Malheureusement, certains superhéros sont ennemis et ne peuvent donc pas faire équipe...  Combien de superhéros peuvent aller combattre les aliens ? Il faut trouver l'équipe la plus importante possible sans ennemis... Le sort de la terre en dépend !\n",
    "\n",
    "Voici la liste des superhéros : \n",
    "   * Batman\n",
    "   * Superman\n",
    "   * Catwoman\n",
    "   * Flash\n",
    "   * Wonder woman\n",
    "   * Black Panther\n",
    "   * Captain America\n",
    "   * Daredevil\n",
    "   * Elektra\n",
    "   * Hulk\n",
    "\n",
    "Et voici maintenant la liste des ennemis jurés : \n",
    "   * Batman et Flash\n",
    "   * Catwoman et Captain America\n",
    "   * Daredevil et Elektra\n",
    "   * Hulk et Batman\n",
    "   * Catwoman et Wonder woman\n",
    "   * Black Panther et Hulk\n",
    "   * Superman et Flash\n",
    "   * Superman et Elektra\n",
    "   * Flash et Daredevil\n",
    "   * Wonder woman et Captain America\n",
    "   * Daredevil et Hulk\n",
    "   * Batman et Captain America\n",
    "   * Batman et Wonder woman\n",
    "   * Black Panther et Wonder woman\n",
    "\n",
    "\n",
    "\n",
    "**Remarque :** Il est possible de définir des variables indexées par un tableau de chaînes de caractères. Par exemple, il est possible de déclarer les variables `@variable(m,x[Superhéros])`\n",
    "\n",
    "\n",
    "\n"
   ]
  },
  {
   "cell_type": "code",
   "execution_count": 9,
   "metadata": {},
   "outputs": [],
   "source": [
    "#=\n",
    "    DONNÉES\n",
    "=#\n",
    "\n",
    "Superhéros = [\n",
    " \"Batman\",\n",
    " \"Superman\",\n",
    " \"Catwoman\",\n",
    " \"Flash\",\n",
    " \"Wonder woman\",\n",
    " \"Black Panther\",\n",
    " \"Captain America\",\n",
    " \"Daredevil\",\n",
    " \"Elektra\",\n",
    " \"Hulk\"\n",
    "]\n",
    "\n",
    "\n",
    "Ennemis = [\n",
    "  [\"Batman\", \"Flash\"],\n",
    "  [\"Catwoman\", \"Captain America\"],\n",
    "  [\"Daredevil\", \"Elektra\"],\n",
    "  [\"Hulk\", \"Batman\"],\n",
    "  [\"Catwoman\", \"Wonder woman\"],\n",
    "  [\"Black Panther\", \"Hulk\"],\n",
    "  [\"Superman\", \"Flash\"],\n",
    "  [\"Superman\", \"Elektra\"],\n",
    "  [\"Flash\", \"Daredevil\"],\n",
    "  [\"Wonder woman\", \"Captain America\"],\n",
    "  [\"Daredevil\", \"Hulk\"],\n",
    "  [\"Batman\", \"Captain America\"],\n",
    "  [\"Batman\", \"Wonder woman\"],\n",
    "  [\"Black Panther\", \"Wonder woman\"]\n",
    "];"
   ]
  },
  {
   "cell_type": "code",
   "execution_count": 10,
   "metadata": {
    "tags": [
     "answer"
    ]
   },
   "outputs": [
    {
     "name": "stdout",
     "output_type": "stream",
     "text": [
      "Max x[Batman] + x[Superman] + x[Catwoman] + x[Flash] + x[Wonder woman] + x[Black Panther] + x[Captain America] + x[Daredevil] + x[Elektra] + x[Hulk]\n",
      "Subject to\n",
      " x[Batman] + x[Flash] <= 1.0\n",
      " x[Catwoman] + x[Captain America] <= 1.0\n",
      " x[Daredevil] + x[Elektra] <= 1.0\n",
      " x[Batman] + x[Hulk] <= 1.0\n",
      " x[Catwoman] + x[Wonder woman] <= 1.0\n",
      " x[Black Panther] + x[Hulk] <= 1.0\n",
      " x[Superman] + x[Flash] <= 1.0\n",
      " x[Superman] + x[Elektra] <= 1.0\n",
      " x[Flash] + x[Daredevil] <= 1.0\n",
      " x[Wonder woman] + x[Captain America] <= 1.0\n",
      " x[Daredevil] + x[Hulk] <= 1.0\n",
      " x[Batman] + x[Captain America] <= 1.0\n",
      " x[Batman] + x[Wonder woman] <= 1.0\n",
      " x[Wonder woman] + x[Black Panther] <= 1.0\n",
      " x[Batman] binary\n",
      " x[Superman] binary\n",
      " x[Catwoman] binary\n",
      " x[Flash] binary\n",
      " x[Wonder woman] binary\n",
      " x[Black Panther] binary\n",
      " x[Captain America] binary\n",
      " x[Daredevil] binary\n",
      " x[Elektra] binary\n",
      " x[Hulk] binary\n",
      "Optimum = 5.0\n",
      "Solution optimale :\n",
      "Liste des superhéros selectionnés:\n",
      "Batman\n",
      "Superman\n",
      "Catwoman\n",
      "Black Panther\n",
      "Daredevil\n"
     ]
    }
   ],
   "source": [
    "m = Model(GLPK.Optimizer)\n",
    "\n",
    "@variable(m,x[Superhéros], Bin)\n",
    "\n",
    "@objective(m, Max, sum(x[s] for s in Superhéros))\n",
    "\n",
    "for en in Ennemis\n",
    "    @constraint(m, x[en[1]] + x[en[2]] <= 1)\n",
    "end\n",
    "\n",
    "print(m)\n",
    "\n",
    "optimize!(m)\n",
    "\n",
    "status = termination_status(m)\n",
    "\n",
    "\n",
    "if status == INFEASIBLE\n",
    "    println(\"Le problème n'est pas réalisable\")\n",
    "elseif status == UNBOUNDED\n",
    "    println(\"Le problème est non borné\")\n",
    "elseif status == OPTIMAL\n",
    "    println(\"Optimum = \", JuMP.objective_value(m))\n",
    "    println(\"Solution optimale :\")\n",
    "    println(\"Liste des superhéros selectionnés:\")\n",
    "    for s in Superhéros\n",
    "        if JuMP.value(x[s]) == 1\n",
    "            println(s)\n",
    "        end\n",
    "    end\n",
    "else\n",
    "    println(\"Problème lors de la résolution\")\n",
    "end\n"
   ]
  },
  {
   "cell_type": "markdown",
   "metadata": {
    "deletable": false,
    "editable": false,
    "run_control": {
     "frozen": true
    }
   },
   "source": [
    "## Exercice 2 : Pause sudoku\n",
    "\n",
    "\n",
    "Le but de cet exercice est de résoudre cette grille de sudoku **à l'aide de la programmation linéaire en nombres entiers !**\n",
    "\n",
    "<img src=\"img/grille_sudoku.png\" alt=\"Grille de sudoku\" style=\"width: 400px;\"/>\n",
    "\n",
    "**Remarque :** On utilisera comme variable `x[i,j,k]` qui vaut 1 si la case (i,j) contient la valeur k, et 0 sinon."
   ]
  },
  {
   "cell_type": "code",
   "execution_count": null,
   "metadata": {},
   "outputs": [],
   "source": [
    "#=\n",
    "    DONNÉES\n",
    "=#\n",
    "\n",
    "Grille = [\n",
    "  5 3 0 0 7 0 0 0 0;\n",
    "  6 0 0 1 9 5 0 0 0;\n",
    "  0 9 8 0 0 0 0 6 0;\n",
    "  8 0 0 0 6 0 0 0 3;\n",
    "  4 0 0 8 0 3 0 0 1;\n",
    "  7 0 0 0 2 0 0 0 6;\n",
    "  0 6 0 0 0 0 2 8 0;\n",
    "  0 0 0 4 1 9 0 0 5;\n",
    "  0 0 0 0 8 0 0 7 9\n",
    "];"
   ]
  },
  {
   "cell_type": "code",
   "execution_count": 6,
   "metadata": {
    "tags": [
     "answer"
    ]
   },
   "outputs": [
    {
     "data": {
      "text/plain": [
       "9×9×9 Array{VariableRef,3}:\n",
       "[:, :, 1] =\n",
       " x[1,1,1]  x[1,2,1]  x[1,3,1]  x[1,4,1]  …  x[1,7,1]  x[1,8,1]  x[1,9,1]\n",
       " x[2,1,1]  x[2,2,1]  x[2,3,1]  x[2,4,1]     x[2,7,1]  x[2,8,1]  x[2,9,1]\n",
       " x[3,1,1]  x[3,2,1]  x[3,3,1]  x[3,4,1]     x[3,7,1]  x[3,8,1]  x[3,9,1]\n",
       " x[4,1,1]  x[4,2,1]  x[4,3,1]  x[4,4,1]     x[4,7,1]  x[4,8,1]  x[4,9,1]\n",
       " x[5,1,1]  x[5,2,1]  x[5,3,1]  x[5,4,1]     x[5,7,1]  x[5,8,1]  x[5,9,1]\n",
       " x[6,1,1]  x[6,2,1]  x[6,3,1]  x[6,4,1]  …  x[6,7,1]  x[6,8,1]  x[6,9,1]\n",
       " x[7,1,1]  x[7,2,1]  x[7,3,1]  x[7,4,1]     x[7,7,1]  x[7,8,1]  x[7,9,1]\n",
       " x[8,1,1]  x[8,2,1]  x[8,3,1]  x[8,4,1]     x[8,7,1]  x[8,8,1]  x[8,9,1]\n",
       " x[9,1,1]  x[9,2,1]  x[9,3,1]  x[9,4,1]     x[9,7,1]  x[9,8,1]  x[9,9,1]\n",
       "\n",
       "[:, :, 2] =\n",
       " x[1,1,2]  x[1,2,2]  x[1,3,2]  x[1,4,2]  …  x[1,7,2]  x[1,8,2]  x[1,9,2]\n",
       " x[2,1,2]  x[2,2,2]  x[2,3,2]  x[2,4,2]     x[2,7,2]  x[2,8,2]  x[2,9,2]\n",
       " x[3,1,2]  x[3,2,2]  x[3,3,2]  x[3,4,2]     x[3,7,2]  x[3,8,2]  x[3,9,2]\n",
       " x[4,1,2]  x[4,2,2]  x[4,3,2]  x[4,4,2]     x[4,7,2]  x[4,8,2]  x[4,9,2]\n",
       " x[5,1,2]  x[5,2,2]  x[5,3,2]  x[5,4,2]     x[5,7,2]  x[5,8,2]  x[5,9,2]\n",
       " x[6,1,2]  x[6,2,2]  x[6,3,2]  x[6,4,2]  …  x[6,7,2]  x[6,8,2]  x[6,9,2]\n",
       " x[7,1,2]  x[7,2,2]  x[7,3,2]  x[7,4,2]     x[7,7,2]  x[7,8,2]  x[7,9,2]\n",
       " x[8,1,2]  x[8,2,2]  x[8,3,2]  x[8,4,2]     x[8,7,2]  x[8,8,2]  x[8,9,2]\n",
       " x[9,1,2]  x[9,2,2]  x[9,3,2]  x[9,4,2]     x[9,7,2]  x[9,8,2]  x[9,9,2]\n",
       "\n",
       "[:, :, 3] =\n",
       " x[1,1,3]  x[1,2,3]  x[1,3,3]  x[1,4,3]  …  x[1,7,3]  x[1,8,3]  x[1,9,3]\n",
       " x[2,1,3]  x[2,2,3]  x[2,3,3]  x[2,4,3]     x[2,7,3]  x[2,8,3]  x[2,9,3]\n",
       " x[3,1,3]  x[3,2,3]  x[3,3,3]  x[3,4,3]     x[3,7,3]  x[3,8,3]  x[3,9,3]\n",
       " x[4,1,3]  x[4,2,3]  x[4,3,3]  x[4,4,3]     x[4,7,3]  x[4,8,3]  x[4,9,3]\n",
       " x[5,1,3]  x[5,2,3]  x[5,3,3]  x[5,4,3]     x[5,7,3]  x[5,8,3]  x[5,9,3]\n",
       " x[6,1,3]  x[6,2,3]  x[6,3,3]  x[6,4,3]  …  x[6,7,3]  x[6,8,3]  x[6,9,3]\n",
       " x[7,1,3]  x[7,2,3]  x[7,3,3]  x[7,4,3]     x[7,7,3]  x[7,8,3]  x[7,9,3]\n",
       " x[8,1,3]  x[8,2,3]  x[8,3,3]  x[8,4,3]     x[8,7,3]  x[8,8,3]  x[8,9,3]\n",
       " x[9,1,3]  x[9,2,3]  x[9,3,3]  x[9,4,3]     x[9,7,3]  x[9,8,3]  x[9,9,3]\n",
       "\n",
       "[:, :, 4] =\n",
       " x[1,1,4]  x[1,2,4]  x[1,3,4]  x[1,4,4]  …  x[1,7,4]  x[1,8,4]  x[1,9,4]\n",
       " x[2,1,4]  x[2,2,4]  x[2,3,4]  x[2,4,4]     x[2,7,4]  x[2,8,4]  x[2,9,4]\n",
       " x[3,1,4]  x[3,2,4]  x[3,3,4]  x[3,4,4]     x[3,7,4]  x[3,8,4]  x[3,9,4]\n",
       " x[4,1,4]  x[4,2,4]  x[4,3,4]  x[4,4,4]     x[4,7,4]  x[4,8,4]  x[4,9,4]\n",
       " x[5,1,4]  x[5,2,4]  x[5,3,4]  x[5,4,4]     x[5,7,4]  x[5,8,4]  x[5,9,4]\n",
       " x[6,1,4]  x[6,2,4]  x[6,3,4]  x[6,4,4]  …  x[6,7,4]  x[6,8,4]  x[6,9,4]\n",
       " x[7,1,4]  x[7,2,4]  x[7,3,4]  x[7,4,4]     x[7,7,4]  x[7,8,4]  x[7,9,4]\n",
       " x[8,1,4]  x[8,2,4]  x[8,3,4]  x[8,4,4]     x[8,7,4]  x[8,8,4]  x[8,9,4]\n",
       " x[9,1,4]  x[9,2,4]  x[9,3,4]  x[9,4,4]     x[9,7,4]  x[9,8,4]  x[9,9,4]\n",
       "\n",
       "[:, :, 5] =\n",
       " x[1,1,5]  x[1,2,5]  x[1,3,5]  x[1,4,5]  …  x[1,7,5]  x[1,8,5]  x[1,9,5]\n",
       " x[2,1,5]  x[2,2,5]  x[2,3,5]  x[2,4,5]     x[2,7,5]  x[2,8,5]  x[2,9,5]\n",
       " x[3,1,5]  x[3,2,5]  x[3,3,5]  x[3,4,5]     x[3,7,5]  x[3,8,5]  x[3,9,5]\n",
       " x[4,1,5]  x[4,2,5]  x[4,3,5]  x[4,4,5]     x[4,7,5]  x[4,8,5]  x[4,9,5]\n",
       " x[5,1,5]  x[5,2,5]  x[5,3,5]  x[5,4,5]     x[5,7,5]  x[5,8,5]  x[5,9,5]\n",
       " x[6,1,5]  x[6,2,5]  x[6,3,5]  x[6,4,5]  …  x[6,7,5]  x[6,8,5]  x[6,9,5]\n",
       " x[7,1,5]  x[7,2,5]  x[7,3,5]  x[7,4,5]     x[7,7,5]  x[7,8,5]  x[7,9,5]\n",
       " x[8,1,5]  x[8,2,5]  x[8,3,5]  x[8,4,5]     x[8,7,5]  x[8,8,5]  x[8,9,5]\n",
       " x[9,1,5]  x[9,2,5]  x[9,3,5]  x[9,4,5]     x[9,7,5]  x[9,8,5]  x[9,9,5]\n",
       "\n",
       "[:, :, 6] =\n",
       " x[1,1,6]  x[1,2,6]  x[1,3,6]  x[1,4,6]  …  x[1,7,6]  x[1,8,6]  x[1,9,6]\n",
       " x[2,1,6]  x[2,2,6]  x[2,3,6]  x[2,4,6]     x[2,7,6]  x[2,8,6]  x[2,9,6]\n",
       " x[3,1,6]  x[3,2,6]  x[3,3,6]  x[3,4,6]     x[3,7,6]  x[3,8,6]  x[3,9,6]\n",
       " x[4,1,6]  x[4,2,6]  x[4,3,6]  x[4,4,6]     x[4,7,6]  x[4,8,6]  x[4,9,6]\n",
       " x[5,1,6]  x[5,2,6]  x[5,3,6]  x[5,4,6]     x[5,7,6]  x[5,8,6]  x[5,9,6]\n",
       " x[6,1,6]  x[6,2,6]  x[6,3,6]  x[6,4,6]  …  x[6,7,6]  x[6,8,6]  x[6,9,6]\n",
       " x[7,1,6]  x[7,2,6]  x[7,3,6]  x[7,4,6]     x[7,7,6]  x[7,8,6]  x[7,9,6]\n",
       " x[8,1,6]  x[8,2,6]  x[8,3,6]  x[8,4,6]     x[8,7,6]  x[8,8,6]  x[8,9,6]\n",
       " x[9,1,6]  x[9,2,6]  x[9,3,6]  x[9,4,6]     x[9,7,6]  x[9,8,6]  x[9,9,6]\n",
       "\n",
       "[:, :, 7] =\n",
       " x[1,1,7]  x[1,2,7]  x[1,3,7]  x[1,4,7]  …  x[1,7,7]  x[1,8,7]  x[1,9,7]\n",
       " x[2,1,7]  x[2,2,7]  x[2,3,7]  x[2,4,7]     x[2,7,7]  x[2,8,7]  x[2,9,7]\n",
       " x[3,1,7]  x[3,2,7]  x[3,3,7]  x[3,4,7]     x[3,7,7]  x[3,8,7]  x[3,9,7]\n",
       " x[4,1,7]  x[4,2,7]  x[4,3,7]  x[4,4,7]     x[4,7,7]  x[4,8,7]  x[4,9,7]\n",
       " x[5,1,7]  x[5,2,7]  x[5,3,7]  x[5,4,7]     x[5,7,7]  x[5,8,7]  x[5,9,7]\n",
       " x[6,1,7]  x[6,2,7]  x[6,3,7]  x[6,4,7]  …  x[6,7,7]  x[6,8,7]  x[6,9,7]\n",
       " x[7,1,7]  x[7,2,7]  x[7,3,7]  x[7,4,7]     x[7,7,7]  x[7,8,7]  x[7,9,7]\n",
       " x[8,1,7]  x[8,2,7]  x[8,3,7]  x[8,4,7]     x[8,7,7]  x[8,8,7]  x[8,9,7]\n",
       " x[9,1,7]  x[9,2,7]  x[9,3,7]  x[9,4,7]     x[9,7,7]  x[9,8,7]  x[9,9,7]\n",
       "\n",
       "[:, :, 8] =\n",
       " x[1,1,8]  x[1,2,8]  x[1,3,8]  x[1,4,8]  …  x[1,7,8]  x[1,8,8]  x[1,9,8]\n",
       " x[2,1,8]  x[2,2,8]  x[2,3,8]  x[2,4,8]     x[2,7,8]  x[2,8,8]  x[2,9,8]\n",
       " x[3,1,8]  x[3,2,8]  x[3,3,8]  x[3,4,8]     x[3,7,8]  x[3,8,8]  x[3,9,8]\n",
       " x[4,1,8]  x[4,2,8]  x[4,3,8]  x[4,4,8]     x[4,7,8]  x[4,8,8]  x[4,9,8]\n",
       " x[5,1,8]  x[5,2,8]  x[5,3,8]  x[5,4,8]     x[5,7,8]  x[5,8,8]  x[5,9,8]\n",
       " x[6,1,8]  x[6,2,8]  x[6,3,8]  x[6,4,8]  …  x[6,7,8]  x[6,8,8]  x[6,9,8]\n",
       " x[7,1,8]  x[7,2,8]  x[7,3,8]  x[7,4,8]     x[7,7,8]  x[7,8,8]  x[7,9,8]\n",
       " x[8,1,8]  x[8,2,8]  x[8,3,8]  x[8,4,8]     x[8,7,8]  x[8,8,8]  x[8,9,8]\n",
       " x[9,1,8]  x[9,2,8]  x[9,3,8]  x[9,4,8]     x[9,7,8]  x[9,8,8]  x[9,9,8]\n",
       "\n",
       "[:, :, 9] =\n",
       " x[1,1,9]  x[1,2,9]  x[1,3,9]  x[1,4,9]  …  x[1,7,9]  x[1,8,9]  x[1,9,9]\n",
       " x[2,1,9]  x[2,2,9]  x[2,3,9]  x[2,4,9]     x[2,7,9]  x[2,8,9]  x[2,9,9]\n",
       " x[3,1,9]  x[3,2,9]  x[3,3,9]  x[3,4,9]     x[3,7,9]  x[3,8,9]  x[3,9,9]\n",
       " x[4,1,9]  x[4,2,9]  x[4,3,9]  x[4,4,9]     x[4,7,9]  x[4,8,9]  x[4,9,9]\n",
       " x[5,1,9]  x[5,2,9]  x[5,3,9]  x[5,4,9]     x[5,7,9]  x[5,8,9]  x[5,9,9]\n",
       " x[6,1,9]  x[6,2,9]  x[6,3,9]  x[6,4,9]  …  x[6,7,9]  x[6,8,9]  x[6,9,9]\n",
       " x[7,1,9]  x[7,2,9]  x[7,3,9]  x[7,4,9]     x[7,7,9]  x[7,8,9]  x[7,9,9]\n",
       " x[8,1,9]  x[8,2,9]  x[8,3,9]  x[8,4,9]     x[8,7,9]  x[8,8,9]  x[8,9,9]\n",
       " x[9,1,9]  x[9,2,9]  x[9,3,9]  x[9,4,9]     x[9,7,9]  x[9,8,9]  x[9,9,9]"
      ]
     },
     "execution_count": 6,
     "metadata": {},
     "output_type": "execute_result"
    }
   ],
   "source": [
    "sudoku = Model(GLPK.Optimizer)\n",
    "#variable\n",
    "@variable(sudoku, x[1:9,1:9,1:9], Bin)\n",
    "#fonction objectif : il n'y en pas besoin car on cherche simplement une solution réalisable\n",
    "#contraintes : une case doit recevoir exactement un chiffre X\n",
    "\n",
    "#contraintes : chaque ligne doit recevoir exactement une fois chaque chiffre\n",
    "\n",
    "#contraintes : chaque colonne doit recevoir exactement une fois chaque chiffre\n",
    "\n",
    "#contraintes : chaque carré 3x3 doit recevoir exactement une fois chaque chiffre\n",
    "\n",
    "#contraintes : les cases préremplies de la Grille\n",
    "\n",
    "\n"
   ]
  },
  {
   "cell_type": "code",
   "execution_count": null,
   "metadata": {},
   "outputs": [],
   "source": []
  }
 ],
 "metadata": {
  "@webio": {
   "lastCommId": "b1a889be45a24cbc8916d0eb444b98a6",
   "lastKernelId": "80a18d9b-e0b6-4f5b-a8fd-5998dd4aca5d"
  },
  "kernelspec": {
   "display_name": "Julia 1.5.3",
   "language": "julia",
   "name": "julia-1.5"
  },
  "language_info": {
   "file_extension": ".jl",
   "mimetype": "application/julia",
   "name": "julia",
   "version": "1.5.3"
  },
  "toc": {
   "base_numbering": 1,
   "nav_menu": {},
   "number_sections": true,
   "sideBar": true,
   "skip_h1_title": true,
   "title_cell": "Table des matières",
   "title_sidebar": "Table des matières",
   "toc_cell": false,
   "toc_position": {},
   "toc_section_display": true,
   "toc_window_display": false
  },
  "varInspector": {
   "cols": {
    "lenName": 16,
    "lenType": 16,
    "lenVar": 40
   },
   "kernels_config": {
    "python": {
     "delete_cmd_postfix": "",
     "delete_cmd_prefix": "del ",
     "library": "var_list.py",
     "varRefreshCmd": "print(var_dic_list())"
    },
    "r": {
     "delete_cmd_postfix": ") ",
     "delete_cmd_prefix": "rm(",
     "library": "var_list.r",
     "varRefreshCmd": "cat(var_dic_list()) "
    }
   },
   "types_to_exclude": [
    "module",
    "function",
    "builtin_function_or_method",
    "instance",
    "_Feature"
   ],
   "window_display": false
  }
 },
 "nbformat": 4,
 "nbformat_minor": 2
}
