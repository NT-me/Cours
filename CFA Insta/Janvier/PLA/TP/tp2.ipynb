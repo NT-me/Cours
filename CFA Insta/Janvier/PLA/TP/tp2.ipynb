# %% markdown
# # TP2 : Affectation
# %% codecell
# Librairies à importer pour utiliser JuMP avec le solver GLPK
using JuMP
using GLPK

# Définition de constantes pour le statut de résolution du problème
const OPTIMAL = JuMP.MathOptInterface.OPTIMAL
const INFEASIBLE = JuMP.MathOptInterface.INFEASIBLE
const UNBOUNDED = JuMP.MathOptInterface.DUAL_INFEASIBLE;
# %% markdown
# Dans la commune de *Rolette*, il y a 3 quartiers et 3 maternelles.
# Les coûts de transport par élève des 3 zones aux différentes écoles sont donnés dans le tableau ci-dessous.
# Le signe `-` indique une affectation impossible.
#
# Zone | Nombre d'élèves | École 1 | École 2 | École 3
# -----|-----------------|---------|--------|----------
# 1 | 450 | 300 | - | 700
# 2 | 600 | -  | 400| 500
# 3 | 550 | 600 | 300 | 200
#
#
#
# Voici la capacité d'acceuil de chaque école :
#
#  École 1 | École 2 | École 3
# ---------|--------|----------
# 700 | 450 | 600
#
# ## Exercice 1
#
# Quelle est l'affectation des élèves dans les trois écoles, qui minimise le coût global de transport pris en charge par la commune ?
#
# Modéliser et résoudre ce problème en JuMP.
#
# Pour cela, on utilisera une variable entière pour chaque zone et chaque école (dont l'affectation est possible) indiquant le nombre d'élèves de la zone affectés à l'école.
#
# Les contraintes sont :
#
# * contraintes d'affectation : tous les élèves doivent être afféctés à une école
# * contraintes de capacité : une école ne peut pas accueillir plus d'élève que sa capacité
#
# %% codecell
##############################
#   Saisir votre code ici.   #
##############################



# %% markdown
# ## Exercice 2
#
# ### Question 1
#
# Écrire sur feuille une formulation générique du problème d'affectation de coût minimum, c'est-à-dire une formulation qui dépend des paramètres suivants :
#
# * $E$ : l'ensemble des écoles,
# * $Z$ : l'ensemble des zones,
# * $P_j$ : capacité de l'école $j$,
# * $n_i$ : nombre d'élèves de la zone $i$,
# * $c_{i,j}$ : coût de transport d'un élève de la zone $i$ vers l'école $j$.
#
# Pour cela, on utilisera les variables $x_{i,j}$ correspondant au nombre d'enfants de la zone $i$ affectés à l'école $j$.
# %% markdown
# ### Question 2
#
# Écrire cette formulation générique en JuMP. Pour cela, on utilisera des variables indexées par des ensembles. Vous trouverez la documentation et les exemples avec les liens suivants.
#
# * [Documentation](http://www.juliaopt.org/JuMP.jl/v0.20.0/)
# * [Exemples](https://github.com/JuliaOpt/JuMP.jl/tree/release-0.20/examples)
#
# Résoudre le problème donné par les valeurs suivantes :
# %% codecell
# Coûts d'affectation des zones aux écoles
c = [300 0 700;
    0 400 500;
    600 300 200;
    200 500 0;
    0 0 400;
    500 300 0]

# Capacité des écoles
P = [900 1100 1000]

# Nombre d'élèves dans chaque zone
n = [450 600 550 350 500 450]


# %% codecell
##############################
#   Saisir votre code ici.   #
##############################
