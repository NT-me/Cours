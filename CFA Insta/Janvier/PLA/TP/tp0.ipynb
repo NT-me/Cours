# %% markdown
# # Introduction à Julia
#
# Julia est un langage à la syntaxe proche des langages Python et Mathlab. Il permet d'écrire facilement et rapidement des algorithmes. De plus, il est directement compilé en langage C, ce qui lui permet de s'exécuter très rapidement.
#
# Pour plus d'information, vous pouvez consulter les [tutoriels](https://julialang.org/learning/) sur le site de Julialang.
#
# ## Exercice 1 : Premiers pas
#
# Pour exécuter du code Julia, nous écrirons du code dans une cellule puis exécuterons  ce code. Exécuter le code de la cellule suivante (pour compiler, il faut appuyer sur Ctrl-Enter).
# %% codecell
langage = "Ju" * "lia"
println(langage, " est)GMb')* un super langage !!!!")
println("Même pas de problème avec les accents...
Ni même avec les caractères unicode ☺ (ʘ‿ʘ)")
# %% markdown
# ## Exercice 2 : Boucles
#
# Ajouter à la fin une boucle affichant les carrés des nombres 5 à 12.
# %% codecell
#Avec une boucle for
for i = 5:12
    println("i vaut ", i*i, " ! ")
end

#=
        Avec
        une
        boucle while
=#

i = 5
while i <= 12
    println("i vaut ", i*i , " ! ")
    i+=1
end
# %% markdown
# ## Exercice 3 : Tableaux
#
# Les tableaux contiennent que des valeurs de même type (comme en C) et sont **indexés à partir de 1**, pas de 0 (pas du tout comme en C) !
#
# Écrire un algorithme à la fin permettant de rechercher dans le tableau `nombres` le plus grand entier.
# %% codecell
#Affichage du tableau prénoms
prénoms = ["Alice", "Bob", "Charlie"]
for p in prénoms
    println(p)
end

nombres = [12, 43, 32, 96, 73, 76]
if length(nombres) > 5
    println("Ce tableau contient plus de 5 nombres")
else
    println("C'est un petit tableau d'au plus 5 nombres")
end

#Parcours du tableau nombres
for nb in nombres
    println("Nombre : ", nb)
end

#Boucle si l'on a besoin des indices du tableau
for i in 1:length(nombres)
    println("Nombre numéro ", i, " = ", nombres[i])
end

# Algo permettant de récupérer le plus grand entier de nombres
nombres = [12, 43, 32, 96, 73, 76]
maxINT = 0
for entier in nombres
    if entier > maxINT
        maxINT = entier
    end
end
println(maxINT)

# %% markdown
# ## Exercice 4 : Fonctions
#
# Voici quelques exemples de fonctions illustrant les propriétés des fonctions dans le langage Julia.
#
# Définir à la suite une fonction maxiTab prenant en paramètre un tableau et retournant la valeur maximum de ce tableau. Appeler cette fonction avec le tableau `nombres` défini précédemment.
# %% codecell
# Fonction retournant x²-1
function carreMoinsUn(x)
    return x^2 - 1
end
println("carreMoinsUn(3) = ", carreMoinsUn(3))

function modifiePasInt(x)
    x = x+1
end

a = 12
modifiePasInt(a)
println("valeur de a après appel de la fonction modifie = ", a)

function modifieTab(tab)
    push!(tab,12)
end
t = [23, 34, 45]
modifieTab(t)
println("t = ", t)

function valeursRetour(x,y)
    return x+y, x-y, x*y, x/y
end

add, sous, mult, divi = valeursRetour(1,2)
println("1+2 = ", add, "\n1-2 = ", sous, "\n1*2 = $mult \n1/2 = $(divi)")

function maxiTab(tab)
    x=tab[1]
    for e in tab
        if x < e
            x = e
        end
    end
    return x
end
println("maxiTab = ", maxiTab(nombres))
# %% codecell

# %% codecell
